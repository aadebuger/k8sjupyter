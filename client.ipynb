{
 "cells": [
  {
   "cell_type": "code",
   "execution_count": 1,
   "metadata": {
    "scrolled": true
   },
   "outputs": [
    {
     "name": "stdout",
     "output_type": "stream",
     "text": [
      "Listing pods with their IPs:\n",
      "172.17.0.3\tdefault\thello-minikube-8b6766654-mrnbn\n",
      "172.17.0.5\tdefault\thello-minikube1-6689748ccd-n868k\n",
      "10.23.9.249\tkube-system\tetcd-minikube\n",
      "10.23.9.249\tkube-system\tkube-addon-manager-minikube\n",
      "10.23.9.249\tkube-system\tkube-apiserver-minikube\n",
      "10.23.9.249\tkube-system\tkube-controller-manager-minikube\n",
      "172.17.0.2\tkube-system\tkube-dns-86f4d74b45-l9hzn\n",
      "10.23.9.249\tkube-system\tkube-proxy-wg56s\n",
      "10.23.9.249\tkube-system\tkube-scheduler-minikube\n",
      "172.17.0.4\tkube-system\tkubernetes-dashboard-685cfbd9f6-klktl\n",
      "10.23.9.249\tkube-system\tstorage-provisioner\n"
     ]
    }
   ],
   "source": [
    "from kubernetes import client, config\n",
    "\n",
    "# Configs can be set in Configuration class directly or using helper utility\n",
    "config.load_kube_config()\n",
    "\n",
    "v1 = client.CoreV1Api()\n",
    "print(\"Listing pods with their IPs:\")\n",
    "ret = v1.list_pod_for_all_namespaces(watch=False)\n",
    "for i in ret.items:\n",
    "    print(\"%s\\t%s\\t%s\" % (i.status.pod_ip, i.metadata.namespace, i.metadata.name))"
   ]
  },
  {
   "cell_type": "code",
   "execution_count": null,
   "metadata": {},
   "outputs": [],
   "source": []
  }
 ],
 "metadata": {
  "kernelspec": {
   "display_name": "Python 3",
   "language": "python",
   "name": "python3"
  },
  "language_info": {
   "codemirror_mode": {
    "name": "ipython",
    "version": 3
   },
   "file_extension": ".py",
   "mimetype": "text/x-python",
   "name": "python",
   "nbconvert_exporter": "python",
   "pygments_lexer": "ipython3",
   "version": "3.5.2"
  }
 },
 "nbformat": 4,
 "nbformat_minor": 2
}
